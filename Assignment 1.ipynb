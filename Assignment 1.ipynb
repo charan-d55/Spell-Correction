{
 "cells": [
  {
   "cell_type": "markdown",
   "id": "19cae089",
   "metadata": {},
   "source": [
    "# Installing and Importing required libraries."
   ]
  },
  {
   "cell_type": "code",
   "execution_count": 1,
   "id": "a191b042",
   "metadata": {},
   "outputs": [
    {
     "name": "stdout",
     "output_type": "stream",
     "text": [
      "Requirement already satisfied: python-Levenshtein in s:\\anaconda\\lib\\site-packages (0.23.0)\n",
      "Requirement already satisfied: Levenshtein==0.23.0 in s:\\anaconda\\lib\\site-packages (from python-Levenshtein) (0.23.0)\n",
      "Requirement already satisfied: rapidfuzz<4.0.0,>=3.1.0 in s:\\anaconda\\lib\\site-packages (from Levenshtein==0.23.0->python-Levenshtein) (3.6.1)\n"
     ]
    }
   ],
   "source": [
    "!pip install python-Levenshtein\n",
    "from nltk.corpus import wordnet as wn\n",
    "import pandas as pd"
   ]
  },
  {
   "cell_type": "markdown",
   "id": "92b51394",
   "metadata": {},
   "source": [
    "Counting words in wordnet."
   ]
  },
  {
   "cell_type": "code",
   "execution_count": 5,
   "id": "1ca89fff",
   "metadata": {},
   "outputs": [
    {
     "name": "stdout",
     "output_type": "stream",
     "text": [
      "Total words in WordNet 147306\n"
     ]
    }
   ],
   "source": [
    "count = 0\n",
    "for w in wn.words():\n",
    "  count=count+1\n",
    "print(\"Total words in WordNet\",count)"
   ]
  },
  {
   "cell_type": "markdown",
   "id": "ea23bb60",
   "metadata": {},
   "source": [
    "Making data from brikbeck.txt file, that is making two list of incorrect and correct spelling at same index.  "
   ]
  },
  {
   "cell_type": "code",
   "execution_count": 6,
   "id": "5f0a3b70",
   "metadata": {
    "scrolled": true
   },
   "outputs": [
    {
     "name": "stdout",
     "output_type": "stream",
     "text": [
      "['ab', 'ameraca', 'ameracan', 'apirl', 'austrain']\n",
      "Total number of incorrect spellings 6136\n",
      "['albert', 'america', 'american', 'april', 'austrian']\n",
      "Total number of correct spellings 6136\n"
     ]
    }
   ],
   "source": [
    "correct_spellings = []\n",
    "incorrect_spellings = []\n",
    "file_ = open('brikbeck.txt', 'r')\n",
    "Lines = file_.readlines()\n",
    "l=[]\n",
    "\n",
    "\n",
    "for current_line_number, line in enumerate(Lines, start=1):\n",
    "    if '$' in line:\n",
    "        crr_spell = line.replace('$', '').replace('\\n', '').lower()\n",
    "        correct_spellings.append(crr_spell)\n",
    "        l.append(current_line_number+1)\n",
    "        \n",
    "for i in l:\n",
    "    a=(Lines[i-1])\n",
    "    incrr_spell = a.replace('\\n', '').lower()\n",
    "    incorrect_spellings.append(incrr_spell)\n",
    "\n",
    "print(incorrect_spellings[0:5])\n",
    "print('Total number of incorrect spellings',len(incorrect_spellings))\n",
    "print(correct_spellings[0:5])\n",
    "print('Total number of correct spellings',len(correct_spellings))"
   ]
  },
  {
   "cell_type": "markdown",
   "id": "d724af86",
   "metadata": {},
   "source": [
    "Making data frame for incorrect and correct spelling"
   ]
  },
  {
   "cell_type": "code",
   "execution_count": 7,
   "id": "76760d93",
   "metadata": {},
   "outputs": [
    {
     "name": "stdout",
     "output_type": "stream",
     "text": [
      "     incorrect   correct\n",
      "0           ab    albert\n",
      "1      ameraca   america\n",
      "2     ameracan  american\n",
      "3        apirl     april\n",
      "4     austrain  austrian\n",
      "...        ...       ...\n",
      "6131      yors     yours\n",
      "6132   youself  yourself\n",
      "6133       uth     youth\n",
      "6134    zelous   zealous\n",
      "6135   zeenith    zenith\n",
      "\n",
      "[6136 rows x 2 columns]\n"
     ]
    }
   ],
   "source": [
    "\n",
    "data = {\n",
    "  \"incorrect\": incorrect_spellings,\n",
    "  \"correct\": correct_spellings\n",
    "}\n",
    "\n",
    "#load data into a DataFrame object:\n",
    "df = pd.DataFrame(data)\n",
    "\n",
    "print(df) "
   ]
  },
  {
   "cell_type": "markdown",
   "id": "7ad68b5d",
   "metadata": {},
   "source": [
    "Calculating S@1, S@5, S@10 for first 500 incorrect spellings"
   ]
  },
  {
   "cell_type": "code",
   "execution_count": 9,
   "id": "eb92799c",
   "metadata": {
    "scrolled": false
   },
   "outputs": [
    {
     "name": "stdout",
     "output_type": "stream",
     "text": [
      "Total of S@1 222\n",
      "Total of S@5 310\n",
      "Total of S@10 329\n"
     ]
    }
   ],
   "source": [
    "from Levenshtein import distance as lev\n",
    "x=incorrect_spellings[0:500]\n",
    "y=correct_spellings[0:500]\n",
    "s1=0\n",
    "s5=0\n",
    "s10=0\n",
    "\n",
    "d=dict()\n",
    "for i in range(0,len(x)):\n",
    "    for w in wn.words():\n",
    "        d[w]=lev(x[i],w)\n",
    "\n",
    "    res = {key: val for key, val in sorted(d.items(), key = lambda ele: ele[1])}\n",
    "    first_pair = {k: res[k] for k in list(res)[:1]}\n",
    "    first5pairs = {k: res[k] for k in list(res)[:5]}\n",
    "    first10pairs = {k: res[k] for k in list(res)[:10]}\n",
    "   \n",
    "    #print('searching for s1')\n",
    "    if y[i] in list(first_pair.keys()):\n",
    "        s1=s1+1\n",
    "    if y[i] in list(first5pairs.keys()):\n",
    "        s5=s5+1\n",
    "\n",
    "    if y[i] in list(first10pairs.keys()):\n",
    "        s10=s10+1\n",
    "    \n",
    "\n",
    "    \n",
    "print('Total of S@1',s1)\n",
    "print('Total of S@5',s5)\n",
    "print('Total of S@10',s10)"
   ]
  },
  {
   "cell_type": "markdown",
   "id": "219c3463",
   "metadata": {},
   "source": [
    "calculating averages of all success at k s@k    k=[1,5,10]"
   ]
  },
  {
   "cell_type": "code",
   "execution_count": 11,
   "id": "35392688",
   "metadata": {},
   "outputs": [
    {
     "name": "stdout",
     "output_type": "stream",
     "text": [
      "Average of s@1 0.444\n",
      "Average of s@5 0.62\n",
      "Average of s@10 0.658\n"
     ]
    }
   ],
   "source": [
    "print('Average of s@1',s1/500)\n",
    "print('Average of s@5',s5/500)\n",
    "print('Average of s@10',s10/500)"
   ]
  },
  {
   "cell_type": "code",
   "execution_count": null,
   "id": "e892a9bd",
   "metadata": {},
   "outputs": [],
   "source": []
  }
 ],
 "metadata": {
  "kernelspec": {
   "display_name": "Python 3 (ipykernel)",
   "language": "python",
   "name": "python3"
  },
  "language_info": {
   "codemirror_mode": {
    "name": "ipython",
    "version": 3
   },
   "file_extension": ".py",
   "mimetype": "text/x-python",
   "name": "python",
   "nbconvert_exporter": "python",
   "pygments_lexer": "ipython3",
   "version": "3.11.4"
  }
 },
 "nbformat": 4,
 "nbformat_minor": 5
}
