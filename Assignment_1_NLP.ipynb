{
  "cells": [
    {
      "cell_type": "markdown",
      "metadata": {
        "id": "view-in-github",
        "colab_type": "text"
      },
      "source": [
        "<a href=\"https://colab.research.google.com/github/charan-d55/Spell-Correction/blob/main/Assignment_1_NLP.ipynb\" target=\"_parent\"><img src=\"https://colab.research.google.com/assets/colab-badge.svg\" alt=\"Open In Colab\"/></a>"
      ]
    },
    {
      "cell_type": "markdown",
      "id": "06c62240",
      "metadata": {
        "id": "06c62240"
      },
      "source": [
        "# Installing and Importing required libraries."
      ]
    },
    {
      "cell_type": "code",
      "source": [
        "!git clone https://github.com/charan-d55/Spell-Correction.git"
      ],
      "metadata": {
        "colab": {
          "base_uri": "https://localhost:8080/"
        },
        "id": "eXWVhy5ddyFg",
        "outputId": "5b56916a-9aab-4b78-c8a0-e1e352c93e0a"
      },
      "id": "eXWVhy5ddyFg",
      "execution_count": 8,
      "outputs": [
        {
          "output_type": "stream",
          "name": "stdout",
          "text": [
            "Cloning into 'Spell-Correction'...\n",
            "remote: Enumerating objects: 26, done.\u001b[K\n",
            "remote: Counting objects: 100% (26/26), done.\u001b[K\n",
            "remote: Compressing objects: 100% (24/24), done.\u001b[K\n",
            "remote: Total 26 (delta 9), reused 0 (delta 0), pack-reused 0\u001b[K\n",
            "Receiving objects: 100% (26/26), 126.94 KiB | 5.52 MiB/s, done.\n",
            "Resolving deltas: 100% (9/9), done.\n"
          ]
        }
      ]
    },
    {
      "cell_type": "code",
      "execution_count": 9,
      "id": "f1612262",
      "metadata": {
        "colab": {
          "base_uri": "https://localhost:8080/"
        },
        "id": "f1612262",
        "outputId": "4026df7f-fc11-49ad-f31d-183dfb6a2481"
      },
      "outputs": [
        {
          "output_type": "stream",
          "name": "stdout",
          "text": [
            "Requirement already satisfied: python-Levenshtein in /usr/local/lib/python3.10/dist-packages (0.25.0)\n",
            "Requirement already satisfied: Levenshtein==0.25.0 in /usr/local/lib/python3.10/dist-packages (from python-Levenshtein) (0.25.0)\n",
            "Requirement already satisfied: rapidfuzz<4.0.0,>=3.1.0 in /usr/local/lib/python3.10/dist-packages (from Levenshtein==0.25.0->python-Levenshtein) (3.6.1)\n"
          ]
        }
      ],
      "source": [
        "!pip install python-Levenshtein\n",
        "from nltk.corpus import wordnet as wn\n",
        "import pandas as pd"
      ]
    },
    {
      "cell_type": "code",
      "source": [
        "import nltk\n",
        "nltk.download('wordnet')"
      ],
      "metadata": {
        "colab": {
          "base_uri": "https://localhost:8080/"
        },
        "id": "uSOyC0n9cjRY",
        "outputId": "8e8b7ee6-f2ae-4109-937f-4635afe861d8"
      },
      "id": "uSOyC0n9cjRY",
      "execution_count": 11,
      "outputs": [
        {
          "output_type": "stream",
          "name": "stderr",
          "text": [
            "[nltk_data] Downloading package wordnet to /root/nltk_data...\n",
            "[nltk_data]   Package wordnet is already up-to-date!\n"
          ]
        },
        {
          "output_type": "execute_result",
          "data": {
            "text/plain": [
              "True"
            ]
          },
          "metadata": {},
          "execution_count": 11
        }
      ]
    },
    {
      "cell_type": "markdown",
      "id": "c0dd4e3d",
      "metadata": {
        "id": "c0dd4e3d"
      },
      "source": [
        "Counting words in wordnet."
      ]
    },
    {
      "cell_type": "code",
      "execution_count": 12,
      "id": "45e3301d",
      "metadata": {
        "colab": {
          "base_uri": "https://localhost:8080/"
        },
        "id": "45e3301d",
        "outputId": "3fc5acad-1985-45c1-ea90-af208a66567c"
      },
      "outputs": [
        {
          "output_type": "stream",
          "name": "stdout",
          "text": [
            "Total words in WordNet 147306\n"
          ]
        }
      ],
      "source": [
        "count = 0\n",
        "for w in wn.words():\n",
        "  count=count+1\n",
        "print(\"Total words in WordNet\",count)"
      ]
    },
    {
      "cell_type": "markdown",
      "id": "9401016f",
      "metadata": {
        "id": "9401016f"
      },
      "source": [
        "Making data from brikbeck.txt file, that is making two list of incorrect and correct spelling at same index.  "
      ]
    },
    {
      "cell_type": "code",
      "execution_count": 13,
      "id": "64c9973b",
      "metadata": {
        "scrolled": true,
        "colab": {
          "base_uri": "https://localhost:8080/"
        },
        "id": "64c9973b",
        "outputId": "99c32cf9-238f-425c-8466-25303a12c0d6"
      },
      "outputs": [
        {
          "output_type": "stream",
          "name": "stdout",
          "text": [
            "['ab', 'ameraca', 'ameracan', 'apirl', 'austrain']\n",
            "Total number of incorrect spellings 6136\n",
            "['albert', 'america', 'american', 'april', 'austrian']\n",
            "Total number of correct spellings 6136\n"
          ]
        }
      ],
      "source": [
        "correct_spellings = []\n",
        "incorrect_spellings = []\n",
        "file_ = open('Spell-Correction/brikbeck.txt', 'r')\n",
        "Lines = file_.readlines()\n",
        "l=[]\n",
        "\n",
        "\n",
        "for current_line_number, line in enumerate(Lines, start=1):\n",
        "    if '$' in line:\n",
        "        crr_spell = line.replace('$', '').replace('\\n', '').lower()\n",
        "        correct_spellings.append(crr_spell)\n",
        "        l.append(current_line_number+1)\n",
        "\n",
        "for i in l:\n",
        "    a=(Lines[i-1])\n",
        "    incrr_spell = a.replace('\\n', '').lower()\n",
        "    incorrect_spellings.append(incrr_spell)\n",
        "\n",
        "print(incorrect_spellings[0:5])\n",
        "print('Total number of incorrect spellings',len(incorrect_spellings))\n",
        "print(correct_spellings[0:5])\n",
        "print('Total number of correct spellings',len(correct_spellings))"
      ]
    },
    {
      "cell_type": "markdown",
      "id": "e082603c",
      "metadata": {
        "id": "e082603c"
      },
      "source": [
        "Making data frame for incorrect and correct spelling"
      ]
    },
    {
      "cell_type": "code",
      "execution_count": 14,
      "id": "423858a0",
      "metadata": {
        "colab": {
          "base_uri": "https://localhost:8080/"
        },
        "id": "423858a0",
        "outputId": "c52c0c80-6502-42ea-d156-df21bb389095"
      },
      "outputs": [
        {
          "output_type": "stream",
          "name": "stdout",
          "text": [
            "     incorrect   correct\n",
            "0           ab    albert\n",
            "1      ameraca   america\n",
            "2     ameracan  american\n",
            "3        apirl     april\n",
            "4     austrain  austrian\n",
            "...        ...       ...\n",
            "6131      yors     yours\n",
            "6132   youself  yourself\n",
            "6133       uth     youth\n",
            "6134    zelous   zealous\n",
            "6135   zeenith    zenith\n",
            "\n",
            "[6136 rows x 2 columns]\n"
          ]
        }
      ],
      "source": [
        "\n",
        "data = {\n",
        "  \"incorrect\": incorrect_spellings,\n",
        "  \"correct\": correct_spellings\n",
        "}\n",
        "\n",
        "#load data into a DataFrame object:\n",
        "df = pd.DataFrame(data)\n",
        "\n",
        "print(df)"
      ]
    },
    {
      "cell_type": "markdown",
      "id": "b8d51dfa",
      "metadata": {
        "id": "b8d51dfa"
      },
      "source": [
        "Calculating S@1, S@5, S@10 for first 500 incorrect spellings"
      ]
    },
    {
      "cell_type": "code",
      "execution_count": 15,
      "id": "0e4994b3",
      "metadata": {
        "scrolled": false,
        "colab": {
          "base_uri": "https://localhost:8080/"
        },
        "id": "0e4994b3",
        "outputId": "a05b95f1-ea89-4470-bf91-e543fb90fb70"
      },
      "outputs": [
        {
          "output_type": "stream",
          "name": "stdout",
          "text": [
            "{'avenged': 2, 'anew': 2, 'agene': 2, 'avena': 2, 'avenger': 2}\n",
            "Total of S@1 222\n",
            "Total of S@5 310\n",
            "Total of S@10 329\n"
          ]
        }
      ],
      "source": [
        "from Levenshtein import distance as lev\n",
        "x=incorrect_spellings[:500]\n",
        "#print(x)\n",
        "y=correct_spellings[:500]\n",
        "#print(y)\n",
        "s1=0\n",
        "s5=0\n",
        "s10=0\n",
        "\n",
        "d=dict()\n",
        "for i in range(0,len(x)):\n",
        "    for w in wn.words():\n",
        "        d[w]=lev(x[i],w)\n",
        "\n",
        "    res = {key: val for key, val in sorted(d.items(), key = lambda ele: ele[1])}\n",
        "    first_pair = {k: res[k] for k in list(res)[:1]}\n",
        "    first5pairs = {k: res[k] for k in list(res)[:5]}\n",
        "    first10pairs = {k: res[k] for k in list(res)[:10]}\n",
        "\n",
        "\n",
        "\n",
        "    #print('searching for s1')\n",
        "    if y[i] in list(first_pair.keys()):\n",
        "        s1=s1+1\n",
        "    if y[i] in list(first5pairs.keys()):\n",
        "        s5=s5+1\n",
        "\n",
        "    if y[i] in list(first10pairs.keys()):\n",
        "        s10=s10+1\n",
        "\n",
        "print(first5pairs)\n",
        "\n",
        "print('Total of S@1',s1)\n",
        "print('Total of S@5',s5)\n",
        "print('Total of S@10',s10)"
      ]
    },
    {
      "cell_type": "markdown",
      "id": "5861d072",
      "metadata": {
        "id": "5861d072"
      },
      "source": [
        "calculating averages of all success at k s@k    k=[1,5,10]"
      ]
    },
    {
      "cell_type": "code",
      "execution_count": 16,
      "id": "14f90211",
      "metadata": {
        "colab": {
          "base_uri": "https://localhost:8080/"
        },
        "id": "14f90211",
        "outputId": "bdfce208-4a10-4b9c-9ae4-f3734b26e108"
      },
      "outputs": [
        {
          "output_type": "stream",
          "name": "stdout",
          "text": [
            "Average of s@1 0.444\n",
            "Average of s@5 0.62\n",
            "Average of s@10 0.658\n"
          ]
        }
      ],
      "source": [
        "print('Average of s@1',s1/500)\n",
        "print('Average of s@5',s5/500)\n",
        "print('Average of s@10',s10/500)"
      ]
    },
    {
      "cell_type": "code",
      "execution_count": null,
      "id": "7c54ba11",
      "metadata": {
        "id": "7c54ba11"
      },
      "outputs": [],
      "source": []
    }
  ],
  "metadata": {
    "kernelspec": {
      "display_name": "Python 3",
      "name": "python3"
    },
    "language_info": {
      "codemirror_mode": {
        "name": "ipython",
        "version": 3
      },
      "file_extension": ".py",
      "mimetype": "text/x-python",
      "name": "python",
      "nbconvert_exporter": "python",
      "pygments_lexer": "ipython3",
      "version": "3.11.4"
    },
    "colab": {
      "provenance": [],
      "machine_shape": "hm",
      "gpuType": "T4",
      "include_colab_link": true
    },
    "accelerator": "GPU"
  },
  "nbformat": 4,
  "nbformat_minor": 5
}